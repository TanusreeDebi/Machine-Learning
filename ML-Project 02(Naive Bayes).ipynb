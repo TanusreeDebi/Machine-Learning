{
 "cells": [
  {
   "cell_type": "markdown",
   "metadata": {},
   "source": [
    "## Project 02: Bayesian learning for classifying news text articles"
   ]
  },
  {
   "cell_type": "markdown",
   "metadata": {},
   "source": [
    "### Name: Tanusree Debi,Id: 1001838957"
   ]
  },
  {
   "cell_type": "markdown",
   "metadata": {},
   "source": [
    "#### Import Necessary Libraries"
   ]
  },
  {
   "cell_type": "code",
   "execution_count": 1,
   "metadata": {},
   "outputs": [],
   "source": [
    "import numpy as np\n",
    "import pandas as pd\n",
    "import os\n",
    "import nltk\n",
    "import operator"
   ]
  },
  {
   "cell_type": "markdown",
   "metadata": {},
   "source": [
    "#### Extracting the 20 newsgroups dataset"
   ]
  },
  {
   "cell_type": "code",
   "execution_count": 2,
   "metadata": {},
   "outputs": [],
   "source": [
    "import tarfile\n",
    "tar = tarfile.open(\"20_newsgroups.tar.gz\")\n",
    "tar.extractall()\n",
    "tar.close()"
   ]
  },
  {
   "cell_type": "markdown",
   "metadata": {},
   "source": [
    "#### Creating path in directory"
   ]
  },
  {
   "cell_type": "code",
   "execution_count": 3,
   "metadata": {},
   "outputs": [],
   "source": [
    "my_path = [f for f in os.listdir('./20_newsgroups') if not f.startswith('.')]"
   ]
  },
  {
   "cell_type": "markdown",
   "metadata": {},
   "source": [
    "#### 20 newsgroups in directory"
   ]
  },
  {
   "cell_type": "code",
   "execution_count": 4,
   "metadata": {},
   "outputs": [
    {
     "data": {
      "text/plain": [
       "['talk.politics.mideast',\n",
       " 'rec.autos',\n",
       " 'comp.sys.mac.hardware',\n",
       " 'alt.atheism',\n",
       " 'rec.sport.baseball',\n",
       " 'comp.os.ms-windows.misc',\n",
       " 'rec.sport.hockey',\n",
       " 'sci.crypt',\n",
       " 'sci.med',\n",
       " 'talk.politics.misc',\n",
       " 'rec.motorcycles',\n",
       " 'comp.windows.x',\n",
       " 'comp.graphics',\n",
       " 'comp.sys.ibm.pc.hardware',\n",
       " 'sci.electronics',\n",
       " 'talk.politics.guns',\n",
       " 'sci.space',\n",
       " 'soc.religion.christian',\n",
       " 'misc.forsale',\n",
       " 'talk.religion.misc']"
      ]
     },
     "execution_count": 4,
     "metadata": {},
     "output_type": "execute_result"
    }
   ],
   "source": [
    "my_path"
   ]
  },
  {
   "cell_type": "markdown",
   "metadata": {},
   "source": [
    "#### Importing stop_word dataset for deleting them"
   ]
  },
  {
   "cell_type": "code",
   "execution_count": 5,
   "metadata": {},
   "outputs": [
    {
     "name": "stderr",
     "output_type": "stream",
     "text": [
      "[nltk_data] Downloading package stopwords to\n",
      "[nltk_data]     /Users/tanusreedebi/nltk_data...\n",
      "[nltk_data]   Unzipping corpora/stopwords.zip.\n"
     ]
    },
    {
     "data": {
      "text/plain": [
       "True"
      ]
     },
     "execution_count": 5,
     "metadata": {},
     "output_type": "execute_result"
    }
   ],
   "source": [
    "import nltk\n",
    "nltk.download('stopwords')"
   ]
  },
  {
   "cell_type": "code",
   "execution_count": 6,
   "metadata": {},
   "outputs": [],
   "source": [
    "from nltk.corpus import stopwords\n",
    "stop_words = set(stopwords.words('english'))"
   ]
  },
  {
   "cell_type": "code",
   "execution_count": 7,
   "metadata": {},
   "outputs": [],
   "source": [
    "redundant_words = [ '--', '|>', '>>', '93', 'xref', 'cantaloupe.srv.cs.cmu.edu', '20', '16', \"max>'ax>'ax>'ax>'ax>'ax>'ax>'ax>'ax>'ax>'ax>'ax>'ax>'ax>'ax>'\", '21', '19', '10', '17', '24', 'reply-to:', 'thu', 'nntp-posting-host:', 're:','25''18'\"i'd\"'>i''22''fri,''23''>the','references:','xref:','sender:','writes:','1993','organization:','newsgroups', 'xref', 'path', 'from', 'subject', 'sender','organisation', 'apr','gmt',  'last','better','never','every','even','two','good','used','first','need','going','must','really','might','well','without','made','give','look','try','far','less','seem','new','make','many','way','since','using','take','help','thanks','send','free','may','see','much','want','find','would','one','like','get','use','also','could','say','us','go','please','said','set','got','sure'\n",
    "                   ,'come','lot','seems','able','anything','put',]"
   ]
  },
  {
   "cell_type": "markdown",
   "metadata": {},
   "source": [
    "#### Delete all stop_words,redundant words and punctuations"
   ]
  },
  {
   "cell_type": "code",
   "execution_count": 8,
   "metadata": {},
   "outputs": [],
   "source": [
    "dictionary = {}\n",
    "punctuations = ['!','(',')','-','[]','{}',';',':','\"','\\',']\n",
    "for m in range(len(my_path)):\n",
    "    files = os.listdir('./20_newsgroups/' + my_path[m])\n",
    "    for n in range(len(files)):\n",
    "        path_of_file = './20_newsgroups/' + my_path[m] + '/' + files[n]\n",
    "        t = open(path_of_file, 'r', errors='ignore').read() \n",
    "        for word in t.split():\n",
    "            if len(word) != 1: \n",
    "               \n",
    "                if not word.lower() in stop_words:\n",
    "                    if not word.lower() in redundant_words:     \n",
    "                        \n",
    "                        if dictionary.get(word.lower()) != None:\n",
    "                            dictionary[word.lower()] += 1\n",
    "                        else:\n",
    "                            dictionary[word.lower()] = 1"
   ]
  },
  {
   "cell_type": "markdown",
   "metadata": {},
   "source": [
    "#### Plot a curve word vs. frequency"
   ]
  },
  {
   "cell_type": "code",
   "execution_count": 9,
   "metadata": {},
   "outputs": [
    {
     "data": {
      "image/png": "[encoded data removed]",
      "text/plain": [
       "<Figure size 432x288 with 1 Axes>"
      ]
     },
     "metadata": {
      "needs_background": "light"
     },
     "output_type": "display_data"
    }
   ],
   "source": [
    "import matplotlib.pyplot as plt\n",
    "num_words = [0 for i in range(max(dictionary.values())+1)] \n",
    "freq = [i for i in range(max(dictionary.values())+1)] \n",
    "for key in dictionary:\n",
    "    num_words[dictionary[key]]+=1\n",
    "plt.plot(freq,num_words)\n",
    "plt.axis([1, 30, 0, 100000])\n",
    "plt.xlabel(\"Words\")\n",
    "plt.ylabel(\"No of Times of any words:\")\n",
    "plt.grid()\n",
    "plt.show()"
   ]
  },
  {
   "cell_type": "markdown",
   "metadata": {},
   "source": [
    "#### Fix a thresold value for selecting top frequent words"
   ]
  },
  {
   "cell_type": "code",
   "execution_count": 10,
   "metadata": {},
   "outputs": [
    {
     "name": "stdout",
     "output_type": "stream",
     "text": [
      "Number of words(100) : 4692\n"
     ]
    }
   ],
   "source": [
    "threshold_freq = 100\n",
    "num_words_above_threshold = len(dictionary)-sum(num_words[0:threshold_freq]) \n",
    "print(\"Number of words({}) :\".format(threshold_freq),num_words_above_threshold)"
   ]
  },
  {
   "cell_type": "markdown",
   "metadata": {},
   "source": [
    "#### Put the top 2000 words in directory"
   ]
  },
  {
   "cell_type": "code",
   "execution_count": 11,
   "metadata": {},
   "outputs": [],
   "source": [
    "import operator\n",
    "vocabulary = sorted(dictionary.items(), key= operator.itemgetter(1), reverse= True)\n",
    "features_dictionary={}\n",
    "sorted_list = vocabulary[2000][1]\n",
    "for f in vocabulary:\n",
    "    features_dictionary[f[0]] = f[1]   \n",
    "    if f[1] <= sorted_list:\n",
    "        break"
   ]
  },
  {
   "cell_type": "markdown",
   "metadata": {},
   "source": [
    "#### Convert the dirrectory into dataframe"
   ]
  },
  {
   "cell_type": "code",
   "execution_count": 12,
   "metadata": {},
   "outputs": [],
   "source": [
    "features_list = list(features_dictionary.keys())\n",
    "df = pd.DataFrame(columns = features_list)\n",
    "for i in range(len(my_path)):\n",
    "    \n",
    "    files = os.listdir('./20_newsgroups/' + my_path[i])\n",
    " \n",
    "    for j in range(len(files)):\n",
    "        \n",
    "        df.loc[len(df)] = np.zeros(len(features_list))\n",
    "         \n",
    "        path = './20_newsgroups/' + my_path[i] + '/' + files[j] \n",
    "        text = open(path, 'r', errors='ignore').read()   \n",
    "        for word in text.split():\n",
    "            if word.lower() in features_list:\n",
    "                df[word.lower()][len(df)-1] += 1"
   ]
  },
  {
   "cell_type": "code",
   "execution_count": 13,
   "metadata": {},
   "outputs": [],
   "source": [
    "x = df.values\n",
    "feat_list = list(df)"
   ]
  },
  {
   "cell_type": "code",
   "execution_count": 14,
   "metadata": {},
   "outputs": [],
   "source": [
    "y = []\n",
    "for i in range(len(my_path)):    \n",
    "    files = os.listdir('./20_newsgroups/' + my_path[i])\n",
    "    for f in range(len(files)):\n",
    "        y.append(i)\n",
    "y = np.array(y)"
   ]
  },
  {
   "cell_type": "markdown",
   "metadata": {},
   "source": [
    "#### Split the dataset 50% train and 50%test daatset"
   ]
  },
  {
   "cell_type": "code",
   "execution_count": 15,
   "metadata": {},
   "outputs": [],
   "source": [
    "from sklearn import model_selection\n",
    "x_train, x_test, y_train, y_test = model_selection.train_test_split(x, y, test_size = 0.5, random_state = 0)"
   ]
  },
  {
   "cell_type": "markdown",
   "metadata": {},
   "source": [
    "#### Build a funtion to calculate the word according to a given class and calculate total words in a class also"
   ]
  },
  {
   "cell_type": "code",
   "execution_count": 16,
   "metadata": {},
   "outputs": [],
   "source": [
    "def count(x_train,y_train):\n",
    "\n",
    "    dict01={}\n",
    "    \n",
    "    class_set = set(y_train)\n",
    "    for class_no in class_set:       \n",
    "        dict01[class_no]={}\n",
    "        dict01[\"total_datavalue\"]=len(y_train)\n",
    "        \n",
    "        class_row=(y_train==class_no)\n",
    "        x_train_rows=x_train[class_row]\n",
    "        y_train_rows=y_train[class_row]\n",
    "        \n",
    "        sums=0\n",
    "        for i in range(len(feat_list)):\n",
    "            dict01[class_no][feat_list[i]]=x_train_rows[:,i].sum()\n",
    "            sums=sums + dict01[class_no][feat_list[i]]\n",
    "            \n",
    "        dict01[class_no][\"total sum\"]=sums\n",
    "        \n",
    "        \n",
    "    return dict01"
   ]
  },
  {
   "cell_type": "code",
   "execution_count": 17,
   "metadata": {},
   "outputs": [],
   "source": [
    "d=count(x_train,y_train)"
   ]
  },
  {
   "cell_type": "markdown",
   "metadata": {},
   "source": [
    "#### Calculate the Probability by using Naive Bayes formula"
   ]
  },
  {
   "cell_type": "code",
   "execution_count": 18,
   "metadata": {},
   "outputs": [],
   "source": [
    "def prior_probability(dictionary_table, test,class_no):\n",
    "    class_probability = np.log(dictionary_table[class_no][\"total sum\"]) - np.log(dictionary_table[\"total_datavalue\"])\n",
    "    total_probability = class_probability \n",
    "    \n",
    "    for i in range(len(test)):\n",
    "        a=dictionary_table[class_no][feat_list[i]]+1\n",
    "        b=dictionary_table[class_no][\"total sum\"]+len(feat_list)      \n",
    "        word_probability = np.log(a) - np.log(b)    \n",
    "      \n",
    "        for j in range(int(test[i])):\n",
    "            total_probability+= word_probability\n",
    "        \n",
    "    return total_probability\n"
   ]
  },
  {
   "cell_type": "markdown",
   "metadata": {},
   "source": [
    "#### Choose the class number among 20 class for x_test"
   ]
  },
  {
   "cell_type": "code",
   "execution_count": 19,
   "metadata": {},
   "outputs": [],
   "source": [
    "def choose_class(directory_table,test):\n",
    "    n=directory_table.keys()\n",
    "    class_match= -1\n",
    "    class_prob= -100\n",
    "    iteration=True  \n",
    "    for class_no in n:\n",
    "        if(class_no == \"total_datavalue\"):\n",
    "            continue\n",
    "            \n",
    "        class_probability=prior_probability(directory_table,test,class_no)\n",
    "        \n",
    "        if(iteration or class_probability > class_prob):\n",
    "            class_prob=class_probability\n",
    "            class_match=class_no\n",
    "            \n",
    "        iteration= False\n",
    "    return class_match  "
   ]
  },
  {
   "cell_type": "markdown",
   "metadata": {},
   "source": [
    "#### Calculate the posterior probability using x_test "
   ]
  },
  {
   "cell_type": "code",
   "execution_count": 20,
   "metadata": {},
   "outputs": [],
   "source": [
    "def posterior_probability(directory_table,x_test):\n",
    "    \n",
    "    y_pred= []\n",
    "    for i in range(len(x_test)):\n",
    "        \n",
    "        class_prediction = choose_class(directory_table,x_test[i,:]) \n",
    "\n",
    "        y_pred.append(class_prediction)\n",
    "    return y_pred"
   ]
  },
  {
   "cell_type": "code",
   "execution_count": 21,
   "metadata": {},
   "outputs": [],
   "source": [
    "directory_table=count(x_train,y_train)"
   ]
  },
  {
   "cell_type": "markdown",
   "metadata": {},
   "source": [
    "#### Predict the class"
   ]
  },
  {
   "cell_type": "code",
   "execution_count": 22,
   "metadata": {},
   "outputs": [],
   "source": [
    "y_prediction=posterior_probability(directory_table,x_test)"
   ]
  },
  {
   "cell_type": "markdown",
   "metadata": {},
   "source": [
    "#### Predict the accuracy:"
   ]
  },
  {
   "cell_type": "code",
   "execution_count": 23,
   "metadata": {},
   "outputs": [
    {
     "name": "stdout",
     "output_type": "stream",
     "text": [
      "Accuracy of Text Classfication using Multimonial Naive Bayes from scratch 0.1258125812581258\n"
     ]
    }
   ],
   "source": [
    "from sklearn.metrics import accuracy_score\n",
    "print(\"Accuracy of Text Classfication using Multimonial Naive Bayes from scratch\", accuracy_score(y_test, y_prediction))"
   ]
  },
  {
   "cell_type": "code",
   "execution_count": 24,
   "metadata": {},
   "outputs": [
    {
     "name": "stdout",
     "output_type": "stream",
     "text": [
      "              precision    recall  f1-score   support\n",
      "\n",
      "           0       0.18      0.25      0.21       484\n",
      "           1       0.10      0.04      0.06       502\n",
      "           2       0.09      0.04      0.06       504\n",
      "           3       0.11      0.07      0.08       473\n",
      "           4       0.05      0.05      0.05       479\n",
      "           5       0.13      0.01      0.02       509\n",
      "           6       0.10      0.12      0.11       501\n",
      "           7       0.17      0.07      0.09       528\n",
      "           8       0.06      0.02      0.03       501\n",
      "           9       0.12      0.14      0.13       501\n",
      "          10       0.09      0.23      0.13       501\n",
      "          11       0.12      0.14      0.13       488\n",
      "          12       0.11      0.08      0.09       519\n",
      "          13       0.14      0.06      0.08       504\n",
      "          14       0.07      0.08      0.08       482\n",
      "          15       0.19      0.09      0.12       517\n",
      "          16       0.11      0.02      0.04       504\n",
      "          17       0.22      0.27      0.25       519\n",
      "          18       0.15      0.73      0.25       481\n",
      "          19       0.07      0.03      0.04       502\n",
      "\n",
      "    accuracy                           0.13      9999\n",
      "   macro avg       0.12      0.13      0.10      9999\n",
      "weighted avg       0.12      0.13      0.10      9999\n",
      "\n"
     ]
    }
   ],
   "source": [
    "from sklearn.metrics import classification_report, confusion_matrix, accuracy_score\n",
    "print(classification_report(y_test, y_prediction))"
   ]
  },
  {
   "cell_type": "code",
   "execution_count": 26,
   "metadata": {},
   "outputs": [],
   "source": [
    "import seaborn as sns\n",
    "import matplotlib.pyplot as plt"
   ]
  },
  {
   "cell_type": "code",
   "execution_count": 27,
   "metadata": {},
   "outputs": [],
   "source": [
    "cf_matrix = confusion_matrix(y_test,y_prediction)"
   ]
  },
  {
   "cell_type": "code",
   "execution_count": 28,
   "metadata": {},
   "outputs": [
    {
     "data": {
      "text/plain": [
       "array([[121,   5,   4,  12,  16,   2,  29,   4,   5,  43,  64,  12,  15,\n",
       "          0,  14,   7,   7,  27,  82,  15],\n",
       "       [ 16,  22,  16,  13,  32,   5,  33,  12,   8,  21,  80,  20,  18,\n",
       "         18,  30,  14,   5,  18, 108,  13],\n",
       "       [ 10,  12,  22,   9,  17,   5,  28,   9,  10,   4,  45,  33,  32,\n",
       "         23,  57,   3,   5,  19, 154,   7],\n",
       "       [ 41,   9,   5,  32,  30,   2,  32,   7,   8,  65,  62,  15,   5,\n",
       "          1,  10,  11,   6,  67,  48,  17],\n",
       "       [ 16,  13,   5,  13,  23,   1,  42,  15,   8,  27,  76,  21,   9,\n",
       "         10,  29,  19,   8,  29, 102,  13],\n",
       "       [ 17,  18,  25,   7,  21,   7,  28,  10,  11,  12,  47,  31,  29,\n",
       "         16,  49,   4,   0,  13, 151,  13],\n",
       "       [ 28,   3,  10,  14,  34,   6,  59,   8,  13,  26,  54,  31,  22,\n",
       "          8,  20,   8,   5,  21, 124,   7],\n",
       "       [ 41,  17,  11,  17,  27,   0,  24,  35,  12,  29,  82,  27,  12,\n",
       "          8,  23,  24,   7,  33,  84,  15],\n",
       "       [ 26,  17,  14,  22,  30,   0,  26,   4,  10,  24,  79,  25,  20,\n",
       "         10,  31,  10,   2,  40,  94,  17],\n",
       "       [ 80,  11,   2,  20,  23,   0,  24,  15,   9,  71,  71,  17,   8,\n",
       "          2,   9,  26,   6,  33,  48,  26],\n",
       "       [ 19,  18,   7,  10,  28,   2,  34,  17,  14,  18, 115,  39,  14,\n",
       "          9,  27,   6,  11,   9,  93,  11],\n",
       "       [  5,   9,  18,   3,  16,   2,  11,   4,   5,   5,  60,  70,  14,\n",
       "         14,  39,   6,   2,  22, 180,   3],\n",
       "       [ 26,  10,  27,   6,  13,   1,  22,   4,   8,   5,  34,  44,  39,\n",
       "         19,  61,   4,   4,   9, 177,   6],\n",
       "       [ 12,  12,  31,   4,  14,   4,  33,   7,   2,  10,  46,  49,  23,\n",
       "         30,  39,  10,   5,  19, 146,   8],\n",
       "       [ 13,  11,  14,   9,  20,   6,  35,   6,  12,   6,  60,  42,  25,\n",
       "         24,  40,   1,   5,  21, 116,  16],\n",
       "       [ 59,   8,   3,  35,  17,   2,  28,  21,   4,  63,  56,  20,  13,\n",
       "          6,  13,  44,  10,  41,  60,  14],\n",
       "       [ 38,  15,   5,  11,  23,   2,  24,   8,  12,  22, 105,  29,  12,\n",
       "          8,  11,  12,  11,  26, 120,  10],\n",
       "       [ 45,   1,   6,  24,  16,   2,  24,   6,   2,  65,  29,  27,  16,\n",
       "          2,  18,   8,   0, 142,  68,  18],\n",
       "       [  4,   8,   7,   0,   7,   1,  14,   9,   2,   1,  15,  27,   8,\n",
       "          7,  15,   2,   1,   3, 349,   1],\n",
       "       [ 58,   9,   4,  31,  33,   3,  22,   8,   7,  62,  84,  17,   7,\n",
       "          5,  11,  13,   3,  47,  62,  16]])"
      ]
     },
     "execution_count": 28,
     "metadata": {},
     "output_type": "execute_result"
    }
   ],
   "source": [
    "cf_matrix"
   ]
  },
  {
   "cell_type": "code",
   "execution_count": 29,
   "metadata": {},
   "outputs": [
    {
     "data": {
      "image/png": "[encoded data removed]",
      "text/plain": [
       "<Figure size 1080x576 with 3 Axes>"
      ]
     },
     "metadata": {
      "needs_background": "light"
     },
     "output_type": "display_data"
    }
   ],
   "source": [
    "from matplotlib import rcParams\n",
    "\n",
    "rcParams['figure.figsize'] = 15,8\n",
    "ax = sns.heatmap(cf_matrix, annot=True, cmap='Blues')\n",
    "ax.set_title('Seaborn Confusion Matrix with labels\\n\\n');\n",
    "ax.set_xlabel('\\nPredicted Class')\n",
    "ax.set_ylabel('Actual Class ');\n",
    "\n",
    "ax = sns.heatmap(cf_matrix, cmap=\"YlGnBu\")\n",
    "ax.xaxis.set_ticklabels(['a','b','c','d','e','f','g','h','i','j','k','l','m','n','o','p','q','r','s','t'])\n",
    "ax.yaxis.set_ticklabels(['a','b','c','d','e','f','g','h','i','j','k','l','m','n','o','p','q','r','s','t'])\n",
    "\n",
    "\n",
    "plt.show()"
   ]
  },
  {
   "attachments": {},
   "cell_type": "markdown",
   "metadata": {},
   "source": [
    "#### Multinomial Naïve Bayes for Text classification using sklearn.naive_bayes import “MultinomialNB”"
   ]
  },
  {
   "cell_type": "code",
   "execution_count": 30,
   "metadata": {},
   "outputs": [],
   "source": [
    "from sklearn.naive_bayes import MultinomialNB\n",
    "from sklearn.metrics import classification_report"
   ]
  },
  {
   "cell_type": "code",
   "execution_count": 31,
   "metadata": {},
   "outputs": [
    {
     "data": {
      "text/plain": [
       "MultinomialNB()"
      ]
     },
     "execution_count": 31,
     "metadata": {},
     "output_type": "execute_result"
    }
   ],
   "source": [
    "acc = MultinomialNB()\n",
    "acc.fit(x_train, y_train)"
   ]
  },
  {
   "cell_type": "code",
   "execution_count": 32,
   "metadata": {},
   "outputs": [],
   "source": [
    "Y_predict = acc.predict(x_test)"
   ]
  },
  {
   "cell_type": "code",
   "execution_count": 33,
   "metadata": {},
   "outputs": [
    {
     "data": {
      "text/plain": [
       "0.12421242124212421"
      ]
     },
     "execution_count": 33,
     "metadata": {},
     "output_type": "execute_result"
    }
   ],
   "source": [
    "acc.score(x_test, y_test)"
   ]
  },
  {
   "cell_type": "code",
   "execution_count": 34,
   "metadata": {},
   "outputs": [
    {
     "name": "stdout",
     "output_type": "stream",
     "text": [
      "              precision    recall  f1-score   support\n",
      "\n",
      "           0       0.20      0.22      0.21       484\n",
      "           1       0.12      0.04      0.06       502\n",
      "           2       0.10      0.04      0.06       504\n",
      "           3       0.09      0.05      0.06       473\n",
      "           4       0.06      0.05      0.05       479\n",
      "           5       0.08      0.02      0.04       509\n",
      "           6       0.09      0.10      0.09       501\n",
      "           7       0.15      0.07      0.09       528\n",
      "           8       0.07      0.02      0.03       501\n",
      "           9       0.12      0.12      0.12       501\n",
      "          10       0.09      0.25      0.13       501\n",
      "          11       0.12      0.15      0.14       488\n",
      "          12       0.10      0.04      0.06       519\n",
      "          13       0.13      0.06      0.08       504\n",
      "          14       0.08      0.12      0.09       482\n",
      "          15       0.19      0.08      0.11       517\n",
      "          16       0.09      0.02      0.04       504\n",
      "          17       0.23      0.27      0.25       519\n",
      "          18       0.15      0.74      0.24       481\n",
      "          19       0.08      0.04      0.05       502\n",
      "\n",
      "    accuracy                           0.12      9999\n",
      "   macro avg       0.12      0.13      0.10      9999\n",
      "weighted avg       0.12      0.12      0.10      9999\n",
      "\n"
     ]
    }
   ],
   "source": [
    "from sklearn.metrics import classification_report, confusion_matrix, accuracy_score\n",
    "print(classification_report(y_test, Y_predict))"
   ]
  },
  {
   "cell_type": "markdown",
   "metadata": {},
   "source": [
    "#### Comparing with knn classifier"
   ]
  },
  {
   "cell_type": "markdown",
   "metadata": {},
   "source": [
    "#### Implementing Text classifier by using KNN classifier:"
   ]
  },
  {
   "cell_type": "code",
   "execution_count": 35,
   "metadata": {},
   "outputs": [],
   "source": [
    "from sklearn.neighbors import KNeighborsClassifier\n",
    "\n",
    "knn = KNeighborsClassifier(n_neighbors=5)"
   ]
  },
  {
   "cell_type": "code",
   "execution_count": 36,
   "metadata": {},
   "outputs": [
    {
     "data": {
      "text/plain": [
       "KNeighborsClassifier()"
      ]
     },
     "execution_count": 36,
     "metadata": {},
     "output_type": "execute_result"
    }
   ],
   "source": [
    "knn.fit(x_train, y_train)"
   ]
  },
  {
   "cell_type": "code",
   "execution_count": 37,
   "metadata": {},
   "outputs": [],
   "source": [
    "y_pred = knn.predict(x_test)"
   ]
  },
  {
   "cell_type": "code",
   "execution_count": 38,
   "metadata": {},
   "outputs": [
    {
     "data": {
      "text/plain": [
       "0.10181018101810181"
      ]
     },
     "execution_count": 38,
     "metadata": {},
     "output_type": "execute_result"
    }
   ],
   "source": [
    "knn.score(x_test, y_test)"
   ]
  },
  {
   "cell_type": "code",
   "execution_count": 39,
   "metadata": {},
   "outputs": [
    {
     "name": "stdout",
     "output_type": "stream",
     "text": [
      "              precision    recall  f1-score   support\n",
      "\n",
      "           0       0.12      0.26      0.16       484\n",
      "           1       0.06      0.11      0.08       502\n",
      "           2       0.09      0.20      0.12       504\n",
      "           3       0.07      0.15      0.09       473\n",
      "           4       0.09      0.08      0.09       479\n",
      "           5       0.07      0.04      0.05       509\n",
      "           6       0.09      0.13      0.11       501\n",
      "           7       0.09      0.04      0.06       528\n",
      "           8       0.10      0.06      0.08       501\n",
      "           9       0.14      0.09      0.11       501\n",
      "          10       0.13      0.07      0.09       501\n",
      "          11       0.08      0.08      0.08       488\n",
      "          12       0.10      0.23      0.14       519\n",
      "          13       0.14      0.04      0.06       504\n",
      "          14       0.09      0.02      0.03       482\n",
      "          15       0.13      0.09      0.11       517\n",
      "          16       0.08      0.02      0.04       504\n",
      "          17       0.18      0.10      0.13       519\n",
      "          18       0.26      0.16      0.20       481\n",
      "          19       0.10      0.06      0.08       502\n",
      "\n",
      "    accuracy                           0.10      9999\n",
      "   macro avg       0.11      0.10      0.10      9999\n",
      "weighted avg       0.11      0.10      0.10      9999\n",
      "\n"
     ]
    }
   ],
   "source": [
    "from sklearn.metrics import classification_report, confusion_matrix, accuracy_score\n",
    "print(classification_report(y_test, y_pred))"
   ]
  },
  {
   "cell_type": "code",
   "execution_count": null,
   "metadata": {},
   "outputs": [],
   "source": []
  }
 ],
 "metadata": {
  "kernelspec": {
   "display_name": "Python 3",
   "language": "python",
   "name": "python3"
  },
  "language_info": {
   "codemirror_mode": {
    "name": "ipython",
    "version": 3
   },
   "file_extension": ".py",
   "mimetype": "text/x-python",
   "name": "python",
   "nbconvert_exporter": "python",
   "pygments_lexer": "ipython3",
   "version": "3.8.5"
  }
 },
 "nbformat": 4,
 "nbformat_minor": 4
}
